{
 "cells": [
  {
   "cell_type": "code",
   "execution_count": 1,
   "metadata": {
    "ExecuteTime": {
     "end_time": "2018-03-10T22:26:32.666596Z",
     "start_time": "2018-03-10T22:26:30.093041Z"
    }
   },
   "outputs": [
    {
     "name": "stdout",
     "output_type": "stream",
     "text": [
      "Populating the interactive namespace from numpy and matplotlib\n"
     ]
    }
   ],
   "source": [
    "%pylab inline\n",
    "import re\n",
    "import csv\n",
    "import math\n",
    "import string\n",
    "from difflib import SequenceMatcher\n",
    "from collections import Counter\n",
    "from __future__ import division"
   ]
  },
  {
   "cell_type": "code",
   "execution_count": 2,
   "metadata": {
    "ExecuteTime": {
     "end_time": "2018-03-10T22:26:32.758339Z",
     "start_time": "2018-03-10T22:26:32.675344Z"
    }
   },
   "outputs": [
    {
     "data": {
      "text/plain": [
       "6488666"
      ]
     },
     "execution_count": 2,
     "metadata": {},
     "output_type": "execute_result"
    }
   ],
   "source": [
    "TEXT = open('big.txt').read() #read all the words from big.txt\n",
    "len(TEXT)"
   ]
  },
  {
   "cell_type": "code",
   "execution_count": 3,
   "metadata": {
    "ExecuteTime": {
     "end_time": "2018-03-10T22:26:32.902510Z",
     "start_time": "2018-03-10T22:26:32.766008Z"
    },
    "collapsed": true
   },
   "outputs": [],
   "source": [
    "def tokens(text):\n",
    "    return re.findall('[a-z]+', text.lower()) "
   ]
  },
  {
   "cell_type": "code",
   "execution_count": 4,
   "metadata": {
    "ExecuteTime": {
     "end_time": "2018-03-10T22:26:32.977215Z",
     "start_time": "2018-03-10T22:26:32.919723Z"
    }
   },
   "outputs": [
    {
     "data": {
      "text/plain": [
       "['hi', 'there', 'randy', 'here']"
      ]
     },
     "execution_count": 4,
     "metadata": {},
     "output_type": "execute_result"
    }
   ],
   "source": [
    "tokens('hi there randy here*2')"
   ]
  },
  {
   "cell_type": "code",
   "execution_count": 5,
   "metadata": {
    "ExecuteTime": {
     "end_time": "2018-03-10T22:26:33.298610Z",
     "start_time": "2018-03-10T22:26:32.983623Z"
    }
   },
   "outputs": [
    {
     "data": {
      "text/plain": [
       "1105285"
      ]
     },
     "execution_count": 5,
     "metadata": {},
     "output_type": "execute_result"
    }
   ],
   "source": [
    "WORDS = tokens(TEXT)\n",
    "len(WORDS)"
   ]
  },
  {
   "cell_type": "code",
   "execution_count": 6,
   "metadata": {
    "ExecuteTime": {
     "end_time": "2018-03-10T22:26:33.552867Z",
     "start_time": "2018-03-10T22:26:33.394213Z"
    }
   },
   "outputs": [
    {
     "name": "stdout",
     "output_type": "stream",
     "text": [
      "[('the', 80030), ('of', 40025), ('and', 38313), ('to', 28766), ('in', 22050), ('a', 21155), ('that', 12512), ('he', 12401), ('was', 11410), ('it', 10681)]\n"
     ]
    }
   ],
   "source": [
    "COUNTS = Counter(WORDS)\n",
    "\n",
    "print(COUNTS.most_common(10))"
   ]
  },
  {
   "cell_type": "code",
   "execution_count": 7,
   "metadata": {
    "ExecuteTime": {
     "end_time": "2018-03-10T22:26:33.696367Z",
     "start_time": "2018-03-10T22:26:33.692957Z"
    },
    "collapsed": true
   },
   "outputs": [],
   "source": [
    "def similar(a, b):\n",
    "    return SequenceMatcher(None, a, b).ratio()"
   ]
  },
  {
   "cell_type": "markdown",
   "metadata": {},
   "source": [
    "### Spell Checker\n",
    "        \n"
   ]
  },
  {
   "cell_type": "code",
   "execution_count": 8,
   "metadata": {
    "ExecuteTime": {
     "end_time": "2018-03-10T22:26:33.819118Z",
     "start_time": "2018-03-10T22:26:33.815240Z"
    },
    "collapsed": true
   },
   "outputs": [],
   "source": [
    "def correct(word):\n",
    "    candidates = (known(edits0(word)) or \n",
    "                  known(edits1(word)) or \n",
    "                  known(edits2(word)) or \n",
    "                  [word])\n",
    "    return max(candidates, key=COUNTS.get)"
   ]
  },
  {
   "cell_type": "markdown",
   "metadata": {},
   "source": [
    "Now for `edits1(word)`: the set of candidate words that are one edit away. For example, given `\"wird\"`, this would include `\"weird\"` (inserting an `e`) and `\"word\"` (replacing a `i` with a `o`), and also `\"iwrd\"` (transposing `w` and `i`; then `known` can be used to filter this out of the set of final candidates). How could we get them?  One way is to *split* the original word in all possible places, each split forming a *pair* of words, `(a, b)`, before and after the place, and at each place, either delete, transpose, replace, or insert a letter:\n",
    "\n",
    "<table>\n",
    "  <tr><td> pairs: <td><tt> Ø+wird <td><tt> w+ird <td><tt> wi+rd <td><tt>wir+d<td><tt>wird+Ø<td><i>Notes:</i><tt> (<i>a</i>, <i>b</i>)</tt> pair</i>\n",
    "  <tr><td> deletions: <td><tt>Ø+ird<td><tt> w+rd<td><tt> wi+d<td><tt> wir+Ø<td><td><i>Delete first char of b</i>\n",
    "  <tr><td> transpositions: <td><tt>Ø+iwrd<td><tt> w+rid<td><tt> wi+dr</tt><td><td><td><i>Swap first two chars of b\n",
    "  <tr><td> replacements: <td><tt>Ø+?ird<td><tt> w+?rd<td><tt> wi+?d<td><tt> wir+?</tt><td><td><i>Replace char at start of b\n",
    "  <tr><td> insertions: <td><tt>Ø+?+wird<td><tt> w+?+ird<td><tt> wi+?+rd<td><tt> wir+?+d<td><tt> wird+?+Ø</tt><td><i>Insert char between a and b\n",
    "</table>"
   ]
  },
  {
   "cell_type": "code",
   "execution_count": 9,
   "metadata": {
    "ExecuteTime": {
     "end_time": "2018-03-10T22:26:33.940320Z",
     "start_time": "2018-03-10T22:26:33.931936Z"
    },
    "collapsed": true
   },
   "outputs": [],
   "source": [
    "def known(words):\n",
    "    #Return the subset of words that are actually in the dictionary.\"\n",
    "    return {w for w in words if w in COUNTS}\n",
    "\n",
    "def edits0(word): \n",
    "    return {word}\n",
    "\n",
    "def edits2(word):\n",
    "    return {e2 for e1 in edits1(word) for e2 in edits1(e1)}"
   ]
  },
  {
   "cell_type": "code",
   "execution_count": 10,
   "metadata": {
    "ExecuteTime": {
     "end_time": "2018-03-10T22:26:34.074808Z",
     "start_time": "2018-03-10T22:26:34.058909Z"
    },
    "collapsed": true
   },
   "outputs": [],
   "source": [
    "def edits1(word):\n",
    "    pairs      = splits(word)\n",
    "    deletes    = [a+b[1:]           for (a, b) in pairs if b]\n",
    "    transposes = [a+b[1]+b[0]+b[2:] for (a, b) in pairs if len(b) > 1]\n",
    "    replaces   = [a+c+b[1:]         for (a, b) in pairs for c in alphabet if b]\n",
    "    inserts    = [a+c+b             for (a, b) in pairs for c in alphabet]\n",
    "    return set(deletes + transposes + replaces + inserts)\n",
    "\n",
    "def splits(word):\n",
    "    return [(word[:i], word[i:]) for i in range(len(word)+1)]\n",
    "\n",
    "alphabet = 'abcdefghijklmnopqrstuvwxyz'"
   ]
  },
  {
   "cell_type": "code",
   "execution_count": 11,
   "metadata": {
    "ExecuteTime": {
     "end_time": "2018-03-10T22:26:34.199481Z",
     "start_time": "2018-03-10T22:26:34.195131Z"
    }
   },
   "outputs": [
    {
     "data": {
      "text/plain": [
       "[('', 'wird'), ('w', 'ird'), ('wi', 'rd'), ('wir', 'd'), ('wird', '')]"
      ]
     },
     "execution_count": 11,
     "metadata": {},
     "output_type": "execute_result"
    }
   ],
   "source": [
    "splits('wird')"
   ]
  },
  {
   "cell_type": "code",
   "execution_count": 12,
   "metadata": {
    "ExecuteTime": {
     "end_time": "2018-03-10T22:26:34.321889Z",
     "start_time": "2018-03-10T22:26:34.317880Z"
    }
   },
   "outputs": [
    {
     "name": "stdout",
     "output_type": "stream",
     "text": [
      "{'wird'}\n"
     ]
    }
   ],
   "source": [
    "print(edits0('wird'))"
   ]
  },
  {
   "cell_type": "code",
   "execution_count": 13,
   "metadata": {
    "ExecuteTime": {
     "end_time": "2018-03-10T22:26:34.453900Z",
     "start_time": "2018-03-10T22:26:34.450585Z"
    }
   },
   "outputs": [
    {
     "name": "stdout",
     "output_type": "stream",
     "text": [
      "{'cwird', 'lwird', 'wirdf', 'wikd', 'wyird', 'wirdq', 'wpird', 'wirvd', 'wprd', 'wirj', 'wirg', 'wiurd', 'wicd', 'wnrd', 'wcrd', 'wirb', 'bwird', 'wixrd', 'bird', 'wuird', 'wgrd', 'wirn', 'wiyrd', 'wirdl', 'wirdw', 'wiro', 'wirt', 'wizrd', 'wirp', 'wirkd', 'kird', 'wirq', 'wirdu', 'cird', 'wzird', 'wxrd', 'wiid', 'wimrd', 'wirfd', 'wirnd', 'pwird', 'wfrd', 'ewird', 'wirdm', 'wiird', 'wjrd', 'ywird', 'wiud', 'waird', 'aird', 'wbrd', 'wire', 'wwrd', 'wigrd', 'xird', 'wilrd', 'wirdx', 'qwird', 'winrd', 'widr', 'wisrd', 'wkird', 'wir', 'wurd', 'wiru', 'fird', 'wipd', 'dwird', 'wiprd', 'wirud', 'wwird', 'wizd', 'wirde', 'wfird', 'wrrd', 'nwird', 'whrd', 'wirdy', 'wild', 'oird', 'wird', 'wiord', 'wirdj', 'wirdn', 'wirk', 'wirdp', 'wirld', 'tird', 'owird', 'xwird', 'wbird', 'wqrd', 'wirds', 'wirdt', 'wirhd', 'sird', 'wmrd', 'wijd', 'qird', 'wivd', 'wirdb', 'wirz', 'wcird', 'wied', 'wirv', 'wibrd', 'wind', 'fwird', 'wifrd', 'wiryd', 'wiqd', 'gwird', 'witrd', 'yird', 'wvrd', 'wigd', 'hird', 'gird', 'twird', 'awird', 'wimd', 'wiwrd', 'wid', 'wirjd', 'wrid', 'widd', 'uwird', 'mird', 'vird', 'wirtd', 'wirdi', 'wxird', 'wikrd', 'wirdh', 'wirdd', 'wirr', 'wierd', 'wiry', 'wirdr', 'eird', 'wirsd', 'wijrd', 'iwird', 'wirad', 'wirbd', 'whird', 'wvird', 'wirod', 'wirdg', 'wnird', 'wirl', 'wirx', 'rird', 'wifd', 'wixd', 'nird', 'wjird', 'iwrd', 'ird', 'wirf', 'wiqrd', 'wiri', 'mwird', 'jwird', 'widrd', 'werd', 'wirs', 'wiwd', 'wiad', 'hwird', 'wirdc', 'wired', 'rwird', 'wqird', 'wgird', 'wlird', 'jird', 'wiard', 'wirdv', 'wsrd', 'dird', 'zird', 'wtrd', 'vwird', 'wirc', 'wsird', 'wirda', 'wihd', 'lird', 'wirm', 'wirmd', 'wtird', 'wivrd', 'word', 'wdrd', 'woird', 'kwird', 'wirdk', 'wirzd', 'wicrd', 'wirw', 'wirdz', 'witd', 'wirh', 'weird', 'zwird', 'pird', 'wira', 'ward', 'swird', 'wzrd', 'wihrd', 'wirrd', 'wkrd', 'wirdo', 'wlrd', 'iird', 'wirxd', 'wrd', 'wirpd', 'wirgd', 'wirid', 'wrird', 'wyrd', 'wircd', 'wiyd', 'wibd', 'wmird', 'uird', 'wirqd', 'wisd', 'wiod', 'wdird', 'wirwd'}\n"
     ]
    }
   ],
   "source": [
    "print(edits1('wird'))"
   ]
  },
  {
   "cell_type": "code",
   "execution_count": 14,
   "metadata": {
    "ExecuteTime": {
     "end_time": "2018-03-10T22:26:34.606485Z",
     "start_time": "2018-03-10T22:26:34.580850Z"
    }
   },
   "outputs": [
    {
     "name": "stdout",
     "output_type": "stream",
     "text": [
      "24254\n"
     ]
    }
   ],
   "source": [
    "print(len(edits2('wird')))"
   ]
  },
  {
   "cell_type": "code",
   "execution_count": 15,
   "metadata": {
    "ExecuteTime": {
     "end_time": "2018-03-10T22:26:34.881054Z",
     "start_time": "2018-03-10T22:26:34.722548Z"
    }
   },
   "outputs": [
    {
     "data": {
      "text/plain": [
       "['spelling',\n",
       " 'errors',\n",
       " 'in',\n",
       " 'something',\n",
       " 'whatever',\n",
       " 'unusual',\n",
       " 'mistakes',\n",
       " 'everywhere']"
      ]
     },
     "execution_count": 15,
     "metadata": {},
     "output_type": "execute_result"
    }
   ],
   "source": [
    "list(map(correct, tokens('Speling errurs in somethink. Whutever; unusuel misteakes everyware?')))"
   ]
  },
  {
   "cell_type": "markdown",
   "metadata": {},
   "source": [
    "Can we make the output prettier than that?"
   ]
  },
  {
   "cell_type": "code",
   "execution_count": 16,
   "metadata": {
    "ExecuteTime": {
     "end_time": "2018-03-10T22:26:35.009370Z",
     "start_time": "2018-03-10T22:26:35.000231Z"
    },
    "collapsed": true
   },
   "outputs": [],
   "source": [
    "def correct_text(text):\n",
    "    return re.sub('[a-zA-Z]+', correct_match, text)\n",
    "\n",
    "def correct_match(match):\n",
    "    word = match.group()\n",
    "    return case_of(word)(correct(word.lower()))\n",
    "\n",
    "def case_of(text):\n",
    "    return (str.upper if text.isupper() else\n",
    "            str.lower if text.islower() else\n",
    "            str.title if text.istitle() else\n",
    "            str)"
   ]
  },
  {
   "cell_type": "code",
   "execution_count": 17,
   "metadata": {
    "ExecuteTime": {
     "end_time": "2018-03-10T22:26:35.131530Z",
     "start_time": "2018-03-10T22:26:35.126337Z"
    }
   },
   "outputs": [
    {
     "data": {
      "text/plain": [
       "'Spelling Errors IN something. Whatever; unusual mistakes?'"
      ]
     },
     "execution_count": 17,
     "metadata": {},
     "output_type": "execute_result"
    }
   ],
   "source": [
    "correct_text('Speling Errurs IN somethink. Whutever; unusuel misteakes?')"
   ]
  },
  {
   "cell_type": "code",
   "execution_count": 18,
   "metadata": {
    "ExecuteTime": {
     "end_time": "2018-03-10T22:26:35.254183Z",
     "start_time": "2018-03-10T22:26:35.250104Z"
    }
   },
   "outputs": [
    {
     "data": {
      "text/plain": [
       "'Audience says: tumbler ...'"
      ]
     },
     "execution_count": 18,
     "metadata": {},
     "output_type": "execute_result"
    }
   ],
   "source": [
    "correct_text('Audiance sayzs: tumblr ...')"
   ]
  },
  {
   "cell_type": "code",
   "execution_count": 19,
   "metadata": {
    "ExecuteTime": {
     "end_time": "2018-03-10T22:26:35.379515Z",
     "start_time": "2018-03-10T22:26:35.368818Z"
    },
    "collapsed": true
   },
   "outputs": [],
   "source": [
    "def pdist(counter):\n",
    "    \"Make a probability distribution, given evidence from a Counter.\"\n",
    "    N = sum(list(counter.values()))\n",
    "    return lambda x: counter[x]/N\n",
    "\n",
    "P = pdist(COUNTS)"
   ]
  },
  {
   "cell_type": "code",
   "execution_count": 20,
   "metadata": {
    "ExecuteTime": {
     "end_time": "2018-03-10T22:26:35.504543Z",
     "start_time": "2018-03-10T22:26:35.498930Z"
    }
   },
   "outputs": [
    {
     "name": "stdout",
     "output_type": "stream",
     "text": [
      "0.0724066643445 the\n",
      "0.00884296810325 is\n",
      "0.000821507574969 most\n",
      "0.00025966153526 common\n",
      "0.000269613719538 word\n",
      "0.0199496057578 in\n",
      "0.000190900989338 english\n"
     ]
    }
   ],
   "source": [
    "for w in tokens('\"The\" is most common word in English'):\n",
    "    print(P(w), w)"
   ]
  },
  {
   "cell_type": "code",
   "execution_count": 21,
   "metadata": {
    "ExecuteTime": {
     "end_time": "2018-03-10T22:26:35.636744Z",
     "start_time": "2018-03-10T22:26:35.630647Z"
    },
    "collapsed": true
   },
   "outputs": [],
   "source": [
    "def Pwords(words):\n",
    "    return product(P(w) for w in words)\n",
    "\n",
    "def product(nums):\n",
    "    result = 1\n",
    "    for x in nums:\n",
    "        result *= x\n",
    "    return result"
   ]
  },
  {
   "cell_type": "code",
   "execution_count": 22,
   "metadata": {
    "ExecuteTime": {
     "end_time": "2018-03-10T22:26:35.760324Z",
     "start_time": "2018-03-10T22:26:35.755823Z"
    }
   },
   "outputs": [
    {
     "name": "stdout",
     "output_type": "stream",
     "text": [
      "2.9833963328e-11 this is a test\n",
      "8.63747202302e-16 this is a unusual test\n",
      "0.0 this is a neverbeforeseen test\n"
     ]
    }
   ],
   "source": [
    "tests = ['this is a test', \n",
    "         'this is a unusual test',\n",
    "         'this is a neverbeforeseen test']\n",
    "\n",
    "for test in tests:\n",
    "    print(Pwords(tokens(test)), test)"
   ]
  },
  {
   "cell_type": "markdown",
   "metadata": {},
   "source": [
    "## Predict test words"
   ]
  },
  {
   "cell_type": "code",
   "execution_count": 23,
   "metadata": {
    "ExecuteTime": {
     "end_time": "2018-03-10T22:26:52.689390Z",
     "start_time": "2018-03-10T22:26:35.884050Z"
    }
   },
   "outputs": [
    {
     "name": "stdout",
     "output_type": "stream",
     "text": [
      "ID,WRONG,WRONG\n",
      "0,contenpted,contented\n",
      "1,begining,beginning\n",
      "2,problam,problem\n",
      "3,dirven,driven\n",
      "4,exstacy,ecstasy\n",
      "5,guic,guns\n",
      "6,localy,local\n",
      "7,compair,company\n",
      "8,pronounciation,pronunciation\n",
      "9,transportibility,transportibility\n",
      "10,miniscule,miniscule\n",
      "11,independant,independent\n",
      "12,aranged,arranged\n",
      "13,poartry,party\n",
      "14,leval,level\n",
      "15,basicaly,basically\n",
      "16,triangulaur,triangular\n",
      "17,unexpcted,unexpected\n",
      "18,stanerdizing,stanerdizing\n",
      "19,varable,variable\n",
      "20,futher,father\n",
      "21,monitering,monitoring\n",
      "22,biscits,biscuits\n",
      "23,avaible,available\n",
      "24,seperate,separate\n",
      "25,neccesary,necessary\n",
      "26,defenition,definition\n",
      "27,receit,recent\n",
      "28,remine,remind\n",
      "29,inetials,initials\n",
      "30,magnificnet,magnificent\n",
      "31,annt,anna\n",
      "32,intial,initial\n",
      "33,ther,the\n",
      "34,experances,experiences\n",
      "35,biult,built\n",
      "36,totaly,total\n",
      "37,undersand,understand\n",
      "38,southen,southern\n",
      "39,definately,definitely\n",
      "40,fisited,visited\n",
      "41,volantry,voluntary\n",
      "42,ment,men\n",
      "43,recieve,receive\n",
      "44,sorces,forces\n",
      "45,wether,whether\n",
      "46,usefull,useful\n",
      "47,litriture,literature\n",
      "48,valubale,valuable\n",
      "49,desicate,delicate\n",
      "50,clearical,clerical\n",
      "51,spledid,splendid\n",
      "52,beetween,between\n",
      "53,completly,completely\n",
      "54,acount,count\n",
      "55,cemetary,cemetery\n",
      "56,speaical,special\n",
      "57,lates,later\n",
      "58,perhapse,perhaps\n",
      "59,rember,member\n",
      "60,chaper,chapter\n",
      "61,cak,can\n",
      "62,vairious,various\n",
      "63,febuary,february\n",
      "64,pertend,pretend\n",
      "65,chosing,closing\n",
      "66,rote,rose\n",
      "67,particulaur,particular\n",
      "68,awfall,wall\n",
      "69,arragment,arrangement\n",
      "70,chalenges,challenges\n",
      "71,lagh,laugh\n",
      "72,ofen,often\n",
      "73,somone,someone\n",
      "74,personnell,personnel\n",
      "75,uneque,unique\n",
      "76,diagrammaticaally,diagrammaticaally\n",
      "77,discription,description\n",
      "78,poims,poems\n",
      "79,perple,people\n",
      "80,descide,decide\n",
      "81,articals,articles\n",
      "82,possition,position\n",
      "83,extented,extended\n",
      "84,hierachial,hierachial\n",
      "85,realy,really\n",
      "86,voteing,voting\n",
      "87,comittee,committee\n",
      "88,wantid,wanted\n",
      "89,benifits,benefits\n",
      "90,defenitions,definitions\n",
      "91,scisors,scissors\n",
      "92,levals,levels\n",
      "93,paralel,parallel\n",
      "94,accomodation,accommodation\n",
      "95,planed,planed\n",
      "96,hierchy,hierarchy\n",
      "97,transfred,transferred\n",
      "98,muinets,mines\n",
      "99,aranging,arranging\n",
      "100,accesing,acceding\n",
      "101,stomac,stomach\n",
      "102,unfortunatly,unfortunately\n",
      "103,conciderable,considerable\n",
      "104,acess,access\n",
      "105,singulaur,singular\n",
      "106,scarcly,scarcely\n",
      "107,questionaire,questionnaire\n",
      "108,experance,experience\n",
      "109,possable,possible\n",
      "110,reafreshment,refreshment\n",
      "111,embaras,embargo\n",
      "112,vistors,visitors\n",
      "113,auxillary,axillary\n",
      "114,descided,decided\n",
      "115,benifit,benefit\n",
      "116,concider,consider\n",
      "117,failes,failed\n",
      "118,carrer,career\n",
      "119,occurence,occurrence\n",
      "120,cirtain,certain\n",
      "121,poame,some\n",
      "122,liew,view\n",
      "123,astablishing,establishing\n",
      "124,diffrent,different\n",
      "125,lones,bones\n",
      "126,extreamly,extremely\n",
      "127,addresable,addresable\n",
      "128,galery,gallery\n",
      "129,centraly,central\n",
      "130,familes,families\n",
      "131,bicycal,bicycle\n",
      "132,choise,choose\n",
      "133,opisite,opposite\n",
      "134,cartains,captains\n",
      "135,adress,dress\n",
      "136,liaision,liaison\n",
      "137,managment,management\n",
      "138,inconvienient,inconvenient\n",
      "139,vairiant,variant\n",
      "140,supercede,supersede\n",
      "141,apeal,appeal\n",
      "142,emploies,employed\n",
      "143,encorage,encourage\n",
      "144,perminant,permanent\n",
      "145,mathematicaly,mathematical\n",
      "146,dsata,data\n",
      "147,perminantly,permanently\n",
      "148,hierachial,hierachial\n",
      "149,provisoe,proviso\n",
      "150,moveing,moving\n",
      "151,alow,low\n",
      "152,creadit,credit\n",
      "153,availble,available\n",
      "154,traditionaly,traditional\n",
      "155,adabtable,adabtable\n",
      "156,latter,latter\n",
      "157,graphicaly,graphicaly\n",
      "158,eventully,eventually\n",
      "159,doupt,doubt\n",
      "160,academicly,academic\n",
      "161,subsequant,subsequent\n",
      "162,missleading,misleading\n",
      "163,ordenary,ordinary\n",
      "164,assosiated,associated\n",
      "165,volantary,voluntary\n",
      "166,enomosly,enormously\n",
      "167,tasble,table\n",
      "168,usful,useful\n",
      "169,thermawere,thermawere\n",
      "170,plesent,present\n",
      "171,beeteen,between\n",
      "172,apreciation,appreciation\n",
      "173,acept,accept\n",
      "174,suufering,suffering\n",
      "175,comparrison,comparison\n",
      "176,majorty,majority\n",
      "177,umberalla,umbrella\n",
      "178,disiplin,discipline\n",
      "179,arrangment,arrangement\n",
      "180,prepaired,prepared\n",
      "181,suficient,sufficient\n",
      "182,wagted,wanted\n",
      "183,orentated,orentated\n",
      "184,inut,nut\n",
      "185,pivting,pitting\n",
      "186,proffit,profit\n",
      "187,agences,agencies\n",
      "188,acumulated,accumulated\n",
      "189,manualy,manual\n",
      "190,representitive,representative\n",
      "191,emploied,employed\n",
      "192,contuned,contused\n",
      "193,draged,dragged\n",
      "194,unresloved,unresloved\n",
      "195,comppared,compared\n",
      "196,noe,not\n",
      "197,anouncing,announcing\n",
      "198,unequaled,unequaled\n",
      "199,curruntly,currently\n",
      "200,tittles,titles\n",
      "201,reching,reaching\n",
      "202,aproached,approached\n",
      "203,sugestion,suggestion\n",
      "204,avaiblity,avaiblity\n",
      "205,desention,desertion\n",
      "206,cancelation,cancellation\n",
      "207,trasactions,transactions\n",
      "208,belive,believe\n",
      "209,operatins,operations\n",
      "210,reulting,resulting\n",
      "211,descides,decides\n",
      "212,unequivocaly,unequivocal\n",
      "213,muinutes,minutes\n",
      "214,understadable,understandable\n",
      "215,dependance,dependence\n",
      "216,supposidly,supposedly\n",
      "217,subtrcat,subtrcat\n",
      "218,sheertes,sheets\n",
      "219,consisit,consist\n",
      "220,imidatly,imidatly\n",
      "221,exponentualy,exponentualy\n",
      "222,overal,overall\n",
      "223,indead,indeed\n",
      "224,seperated,separated\n",
      "225,lengh,length\n",
      "226,familys,family\n",
      "227,nessisitates,nessisitates\n",
      "228,discribed,described\n",
      "229,pimarily,primarily\n",
      "230,sugested,suggested\n",
      "231,possablities,possibilities\n",
      "232,biulding,building\n",
      "233,universaly,universal\n",
      "234,unessasarily,unessasarily\n",
      "235,begining,beginning\n",
      "236,anf,and\n",
      "237,coments,moments\n",
      "238,thw,the\n",
      "239,declaratrions,declarations\n",
      "240,supervison,supervision\n",
      "241,questionare,questionable\n",
      "242,develope,develop\n",
      "243,unavailble,unavailble\n",
      "244,apointments,appointments\n",
      "245,varible,variable\n",
      "246,repetative,reparative\n",
      "247,equaled,equaled\n",
      "248,bonas,bones\n",
      "249,diemands,demands\n",
      "250,scrutiniesed,scrutinized\n",
      "251,reciently,recently\n",
      "252,cleark,clear\n",
      "253,adiquate,adequate\n",
      "254,fealing,feeling\n",
      "255,familer,family\n",
      "256,acepted,accepted\n",
      "257,accesing,acceding\n",
      "258,seperation,separation\n",
      "259,equiries,equities\n",
      "260,recieving,receiving\n",
      "261,proceduer,procedure\n",
      "262,concieved,conceived\n",
      "263,generataed,generate\n",
      "264,flexable,flexible\n",
      "265,analiss,analysis\n",
      "266,particulary,particularly\n",
      "267,rouint,count\n",
      "268,natior,nation\n",
      "269,ganing,gazing\n",
      "270,geniva,geneva\n",
      "271,intresting,interesting\n",
      "272,suroundings,surroundings\n",
      "273,oppertunity,opportunity\n",
      "274,functionaly,functional\n",
      "275,togehter,together\n",
      "276,aproach,approach\n",
      "277,scheem,scheme\n",
      "278,occureed,occurred\n",
      "279,preffeson,preffeson\n",
      "280,recomend,recommend\n",
      "281,examin,examine\n",
      "282,thear,their\n",
      "283,reajusted,readjusted\n",
      "284,biuld,build\n",
      "285,oranisation,organisation\n",
      "286,unversity,university\n",
      "287,utalised,utilised\n",
      "288,optaning,opening\n",
      "289,comersial,commercial\n",
      "290,embelishing,embelishing\n",
      "291,desription,description\n",
      "292,ediion,edition\n",
      "293,forbiden,forbidden\n",
      "294,aplicable,applicable\n",
      "295,committe,committed\n",
      "296,serch,search\n",
      "297,nessesity,necessity\n",
      "298,similar,similar\n",
      "299,luckeley,luckily\n",
      "300,economtric,economic\n",
      "301,agiin,again\n",
      "302,pattarns,patterns\n",
      "303,aalysing,analyzing\n",
      "304,variatry,variety\n",
      "305,widly,widely\n",
      "306,araingements,arrangements\n",
      "307,chalange,change\n",
      "308,forth,forth\n",
      "309,acounts,accounts\n",
      "310,polatics,politics\n",
      "311,descisions,decisions\n",
      "312,sence,since\n",
      "313,benificial,beneficial\n",
      "314,aurguing,arguing\n",
      "315,contually,continually\n",
      "316,aquantences,aquaintances\n",
      "317,extreemly,extremely\n",
      "318,exessively,excessively\n",
      "319,compossed,composed\n",
      "320,seeen,seen\n",
      "321,nationaly,national\n",
      "322,sorce,force\n",
      "323,monthes,months\n",
      "324,progressess,progresses\n",
      "325,wer,her\n",
      "326,brif,brief\n",
      "327,matriiix,matrix\n",
      "328,vistor,visitor\n",
      "329,adequattly,adequately\n",
      "330,seurity,security\n",
      "331,sucsesive,successive\n",
      "332,consisiting,consisting\n",
      "333,pere,pere\n",
      "334,comit,commit\n",
      "335,excxept,except\n",
      "336,conversly,conversely\n",
      "337,deciscions,decisions\n",
      "338,unioun,union\n",
      "339,whn,who\n",
      "340,hown,how\n",
      "341,wil,will\n",
      "342,suted,suited\n",
      "343,necasery,necasery\n",
      "344,esential,essential\n",
      "345,goverment,government\n",
      "346,unessessay,unessessay\n",
      "347,disaggreagte,disaggreagte\n",
      "348,aurgument,argument\n",
      "349,choises,chooses\n",
      "350,conferance,conference\n",
      "351,proceding,preceding\n",
      "352,proffits,profits\n",
      "353,apparant,apparent\n",
      "354,idealy,ideal\n",
      "355,ablity,ability\n",
      "356,responsiblities,responsibilities\n",
      "357,arte,are\n",
      "358,mony,many\n",
      "359,servaying,serving\n",
      "360,provid,proved\n",
      "361,withing,within\n",
      "362,sesion,lesion\n",
      "363,faulse,false\n",
      "364,anual,annual\n",
      "365,sumarys,summary\n",
      "366,refereence,reference\n",
      "367,empolyment,employment\n",
      "368,et,et\n",
      "369,paerticulaur,particular\n",
      "370,serounding,surrounding\n",
      "371,chose,chose\n",
      "372,journaism,journalism\n",
      "373,anoying,annoying\n",
      "374,expence,expense\n",
      "375,recieve,receive\n",
      "376,howeverr,however\n",
      "377,suplementary,supplementary\n",
      "378,vertually,virtually\n",
      "379,forcast,forecast\n",
      "380,heiarky,hearty\n",
      "381,comibine,combine\n",
      "382,rquested,requested\n",
      "383,despratly,desperately\n",
      "384,apreciated,appreciated\n",
      "385,safegaurd,safeguard\n",
      "386,shortend,shortened\n",
      "387,confermation,confirmation\n",
      "388,advantageos,advantages\n",
      "389,thees,these\n",
      "390,befor,before\n",
      "391,progresion,progression\n",
      "392,componant,component\n",
      "393,numbuers,numbers\n",
      "394,adjurnment,adjournment\n",
      "395,acording,according\n"
     ]
    },
    {
     "name": "stdout",
     "output_type": "stream",
     "text": [
      "396,oppinion,opinion\n",
      "397,advice,advice\n",
      "398,carear,career\n",
      "399,resoved,removed\n",
      "400,accessability,accessability\n",
      "401,negligable,negligible\n",
      "402,studens,student\n",
      "403,faverable,favorable\n",
      "404,tecniques,technique\n",
      "405,atmospher,atmosphere\n",
      "406,exsactly,exactly\n",
      "407,especaily,especially\n",
      "408,proprtions,proportions\n",
      "409,goegraphicaly,geographical\n",
      "410,encompasing,encompasing\n",
      "411,stoped,stopped\n",
      "412,relavent,relevant\n",
      "413,thay,that\n",
      "414,upplied,applied\n",
      "415,elimiated,eliminated\n",
      "416,containg,contains\n",
      "417,conditining,conditining\n",
      "418,sucssuful,sucssuful\n",
      "419,quies,quiet\n",
      "420,agravating,aggravating\n",
      "421,errounous,erroneous\n",
      "422,wepons,weapons\n",
      "423,corparate,corporate\n",
      "424,inconcievable,inconceivable\n",
      "425,oranised,organised\n",
      "426,sensable,sensible\n",
      "427,studing,studying\n",
      "428,eximination,examination\n",
      "429,analiss,analysis\n",
      "430,lonley,lonely\n",
      "431,intrest,interest\n",
      "432,comittees,committees\n",
      "433,explaning,explaining\n",
      "434,humor,humor\n",
      "435,thorts,thorns\n",
      "436,timeing,timing\n",
      "437,dificulty,difficulty\n",
      "438,currers,current\n",
      "439,rgister,register\n",
      "440,nite,note\n",
      "441,appoitment,appointment\n",
      "442,servays,servants\n",
      "443,appologies,apologies\n",
      "444,aproximatly,approximately\n",
      "445,throut,throat\n",
      "446,piror,prior\n",
      "447,executted,executed\n",
      "448,anomolies,anomalies\n",
      "449,relativly,relatively\n",
      "450,anouncement,announcement\n",
      "451,acompaning,accompanying\n",
      "452,projeccts,projects\n",
      "453,analised,canalised\n",
      "454,therefoe,therefore\n",
      "455,pe"
     ]
    },
    {
     "data": {
      "text/html": [
       "<b>limit_output extension: Maximum message size of 10000 exceeded with 10096 characters</b>"
      ]
     },
     "metadata": {},
     "output_type": "display_data"
    }
   ],
   "source": [
    "f = open('test.csv','r')\n",
    "\n",
    "for line in f:\n",
    "    row  = csv.reader([line])\n",
    "    row  = list(row)[0]\n",
    "    print(row[0]+','+row[1]+','+correct_text(row[1]))"
   ]
  },
  {
   "cell_type": "markdown",
   "metadata": {},
   "source": [
    "## Finding anamolies"
   ]
  },
  {
   "cell_type": "code",
   "execution_count": 138,
   "metadata": {
    "ExecuteTime": {
     "end_time": "2018-03-09T17:18:08.598889Z",
     "start_time": "2018-03-09T17:18:08.593120Z"
    },
    "collapsed": true
   },
   "outputs": [],
   "source": [
    "f = open('test.csv','r')\n",
    "g = open('test_submit.csv','r')"
   ]
  },
  {
   "cell_type": "code",
   "execution_count": 139,
   "metadata": {
    "ExecuteTime": {
     "end_time": "2018-03-09T17:18:08.961981Z",
     "start_time": "2018-03-09T17:18:08.902957Z"
    },
    "scrolled": true
   },
   "outputs": [
    {
     "name": "stdout",
     "output_type": "stream",
     "text": [
      "\n",
      "Words not present in Big.txt\n",
      "\n",
      "1. transportibility\ttransportability\n",
      "2. miniscule\tminuscule\n",
      "3. stanerdizing\tstandardizing\n",
      "4. diagrammaticaally\tdiagrammatically\n",
      "5. hierachial\thierarchical\n",
      "6. planed\tplanted\n",
      "7. addresable\taddressable\n",
      "8. hierachial\thierarchical\n",
      "9. adabtable\tadaptable\n",
      "10. latter\tlater\n",
      "11. graphicaly\tgraphically\n",
      "12. thermawere\tthermawear\n",
      "13. orentated\torientated\n",
      "14. unresloved\tunresolved\n",
      "15. unequaled\tunequalled\n",
      "16. avaiblity\tavailability\n",
      "17. subtrcat\tsubtract\n",
      "18. imidatly\timmediately\n",
      "19. exponentualy\texponentially\n",
      "20. nessisitates\tnecessitates\n",
      "21. unessasarily\tunnecessarily\n",
      "22. unavailble\tunavailable\n",
      "23. equaled\tequalled\n",
      "24. preffeson\tprofession\n",
      "25. embelishing\tembellishing\n",
      "26. similar\tsimilarity\n",
      "27. forth\tso_forth\n",
      "28. pere\tbad-tempered\n",
      "29. necasery\tnecessary\n",
      "30. unessessay\tunnecessary\n",
      "31. disaggreagte\tdisaggregate\n",
      "32. et\tConnecticut\n",
      "33. chose\tchoose\n",
      "34. advice\tadvised\n",
      "35. accessability\taccessibility\n",
      "36. encompasing\tencompassing\n",
      "37. conditining\tconditioning\n",
      "38. sucssuful\tsuccessful\n",
      "39. humor\thumour\n",
      "40. perametres\tparameters\n",
      "41. dissapoiting\tdisappointing\n",
      "42. interogationg\tinterrogating\n",
      "43. drasticaly\tdrastically\n",
      "44. ineffiect\tinefficient\n",
      "45. citisum\tcriticism\n"
     ]
    }
   ],
   "source": [
    "print('\\nWords not present in Big.txt\\n')\n",
    "count = 1\n",
    "for l1,l2 in zip(f,g):\n",
    "    r1 = list(csv.reader([l1]))[0]\n",
    "    r2 = list(csv.reader([l2]))[0]\n",
    "    if r1[1] == r2[1]:\n",
    "        for k,v in spell_errors.items():\n",
    "            if r1[1] in v:\n",
    "                print(str(count)+'. '+r1[1]+'\\t'+k)\n",
    "                break\n",
    "        #print(str(count)+'. '+r1[1])\n",
    "        count += 1"
   ]
  },
  {
   "cell_type": "code",
   "execution_count": 131,
   "metadata": {
    "ExecuteTime": {
     "end_time": "2018-03-09T17:15:20.492884Z",
     "start_time": "2018-03-09T17:15:13.556857Z"
    },
    "scrolled": true
   },
   "outputs": [
    {
     "name": "stdout",
     "output_type": "stream",
     "text": [
      "2. transportibility\ttransportability\n",
      "3. miniscule\tminuscule\n",
      "4. stanerdizing\tstandardizing\n",
      "5. diagrammaticaally\tdiagrammatically\n",
      "6. hierachial\thierarchical\n",
      "7. addresable\taddressable\n",
      "8. hierachial\thierarchical\n",
      "9. adabtable\tadaptable\n",
      "10. graphicaly\tgraphically\n",
      "11. thermawere\tthermawear\n",
      "12. orentated\torientated\n",
      "13. unresloved\tunresolved\n",
      "14. avaiblity\tavailability\n",
      "15. subtrcat\tsubtract\n",
      "16. imidatly\timmediately\n",
      "17. exponentualy\texponentially\n",
      "18. nessisitates\tnecessitates\n",
      "19. unessasarily\tunnecessarily\n",
      "20. unavailble\tunavailable\n",
      "21. preffeson\tprofession\n",
      "22. embelishing\tembellishing\n",
      "23. necasery\tnecessary\n",
      "24. unessessay\tunnecessary\n",
      "25. disaggreagte\tdisaggregate\n",
      "26. accessability\taccessibility\n",
      "27. encompasing\tencompassing\n",
      "28. conditining\tconditioning\n",
      "29. sucssuful\tsuccessful\n",
      "30. perametres\tparameters\n",
      "31. dissapoiting\tdisappointing\n",
      "32. interogationg\tinterrogating\n",
      "33. drasticaly\tdrastically\n",
      "34. ineffiect\tinefficient\n",
      "35. citisum\tcriticism\n"
     ]
    }
   ],
   "source": [
    "g = open('test_submit.csv','r')\n",
    "count = 1\n",
    "for line in g:\n",
    "    row  = list(csv.reader([line]))[0]\n",
    "    if correct_text(row[1]) not in COUNTS:\n",
    "        for k,v in spell_errors.items():\n",
    "            if row[1] in v:\n",
    "                print(str(count)+'. '+row[1]+'\\t'+k)\n",
    "                break\n",
    "        #print(str(count)+'. '+row[1])\n",
    "        count += 1"
   ]
  },
  {
   "cell_type": "code",
   "execution_count": 24,
   "metadata": {
    "ExecuteTime": {
     "end_time": "2018-03-10T22:26:52.940833Z",
     "start_time": "2018-03-10T22:26:52.805874Z"
    },
    "collapsed": true
   },
   "outputs": [],
   "source": [
    "spell_errors = {}\n",
    "f = open('spell-errors.txt','r')\n",
    "\n",
    "for line in f:\n",
    "    sp = line.strip().replace('\\n','').split(':')\n",
    "    spell_errors[sp[0]] = sp[1]"
   ]
  },
  {
   "cell_type": "markdown",
   "metadata": {},
   "source": [
    "## Upload"
   ]
  },
  {
   "cell_type": "code",
   "execution_count": 29,
   "metadata": {
    "ExecuteTime": {
     "end_time": "2018-03-11T02:44:29.748226Z",
     "start_time": "2018-03-11T02:44:02.430482Z"
    },
    "scrolled": true
   },
   "outputs": [
    {
     "name": "stdout",
     "output_type": "stream",
     "text": [
      "ID,WRONG\n",
      "0,contented\n",
      "1,beginning\n",
      "2,problem\n",
      "3,driven\n",
      "4,ecstasy\n",
      "5,guns\n",
      "6,local\n",
      "7,compare\n",
      "8,pronunciation\n",
      "9,transportability\n",
      "10,minuscule\n",
      "11,independent\n",
      "12,arranged\n",
      "13,poetry\n",
      "14,level\n",
      "15,basically\n",
      "16,triangular\n",
      "17,unexpected\n",
      "18,standardizing\n",
      "19,variable\n",
      "20,further\n",
      "21,monitoring\n",
      "22,biscuits\n",
      "23,available\n",
      "24,separate\n",
      "25,necessary\n",
      "26,definition\n",
      "27,receipt\n",
      "28,remind\n",
      "29,initials\n",
      "30,magnificent\n",
      "31,aunt\n",
      "32,initial\n",
      "33,they\n",
      "34,experiences\n",
      "35,built\n",
      "36,total\n",
      "37,understand\n",
      "38,southern\n",
      "39,definitely\n",
      "40,visited\n",
      "41,voluntary\n",
      "42,meant\n",
      "43,receive\n",
      "44,sources\n",
      "45,whether\n",
      "46,useful\n",
      "47,literature\n",
      "48,valuable\n",
      "49,delicate\n",
      "50,clerical\n",
      "51,splendid\n",
      "52,between\n",
      "53,completely\n",
      "54,count\n",
      "55,cemetery\n",
      "56,special\n",
      "57,latest\n",
      "58,perhaps\n",
      "59,remember\n",
      "60,chapter\n",
      "61,cake\n",
      "62,various\n",
      "63,february\n",
      "64,pretend\n",
      "65,choosing\n",
      "66,rota\n",
      "67,particular\n",
      "68,awful\n",
      "69,arrangement\n",
      "70,challenges\n",
      "71,laugh\n",
      "72,often\n",
      "73,someone\n",
      "74,personnel\n",
      "75,unique\n",
      "76,diagrammatically\n",
      "77,description\n",
      "78,poems\n",
      "79,purple\n",
      "80,decide\n",
      "81,articles\n",
      "82,position\n",
      "83,extended\n",
      "84,hierarchical\n",
      "85,really\n",
      "86,voting\n",
      "87,committee\n",
      "88,wanted\n",
      "89,benefits\n",
      "90,definitions\n",
      "91,scissors\n",
      "92,levels\n",
      "93,parallel\n",
      "94,accommodation\n",
      "95,planned\n",
      "96,hierarchy\n",
      "97,transferred\n",
      "98,minutes\n",
      "99,arranging\n",
      "100,accessing\n",
      "101,stomach\n",
      "102,unfortunately\n",
      "103,considerable\n",
      "104,access\n",
      "105,singular\n",
      "106,scarcely\n",
      "107,questionnaire\n",
      "108,experience\n",
      "109,possible\n",
      "110,refreshment\n",
      "111,embargo\n",
      "112,visitors\n",
      "113,axillary\n",
      "114,decided\n",
      "115,benefit\n",
      "116,consider\n",
      "117,fails\n",
      "118,career\n",
      "119,occurrence\n",
      "120,certain\n",
      "121,some\n",
      "122,lieu\n",
      "123,establishing\n",
      "124,different\n",
      "125,loans\n",
      "126,extremely\n",
      "127,addressable\n",
      "128,gallery\n",
      "129,central\n",
      "130,families\n",
      "131,bicycle\n",
      "132,choice\n",
      "133,opposite\n",
      "134,curtains\n",
      "135,dress\n",
      "136,liaison\n",
      "137,management\n",
      "138,inconvenient\n",
      "139,variant\n",
      "140,supersede\n",
      "141,appeal\n",
      "142,employees\n",
      "143,encourage\n",
      "144,permanent\n",
      "145,mathematical\n",
      "146,data\n",
      "147,permanently\n",
      "148,hierarchical\n",
      "149,proviso\n",
      "150,moving\n",
      "151,allow\n",
      "152,credit\n",
      "153,available\n",
      "154,traditional\n",
      "155,adaptable\n",
      "156,later\n",
      "157,graphically\n",
      "158,eventually\n",
      "159,doubt\n",
      "160,academically\n",
      "161,subsequent\n",
      "162,misleading\n",
      "163,ordinarily\n",
      "164,associated\n",
      "165,voluntary\n",
      "166,enormously\n",
      "167,table\n",
      "168,useful\n",
      "169,thermawear\n",
      "170,pleasant\n",
      "171,between\n",
      "172,appreciation\n",
      "173,accept\n",
      "174,suffering\n",
      "175,comparison\n",
      "176,majority\n",
      "177,umbrella\n",
      "178,discipline\n",
      "179,arrangement\n",
      "180,prepared\n",
      "181,sufficient\n",
      "182,weighted\n",
      "183,orientated\n",
      "184,input\n",
      "185,pivoting\n",
      "186,profit\n",
      "187,agencies\n",
      "188,accumulated\n",
      "189,manual\n",
      "190,representative\n",
      "191,employed\n",
      "192,continued\n",
      "193,dragged\n",
      "194,unresolved\n",
      "195,compared\n",
      "196,not\n",
      "197,announcing\n",
      "198,unequalled\n",
      "199,currently\n",
      "200,titles\n",
      "201,reaching\n",
      "202,approached\n",
      "203,suggestion\n",
      "204,availability\n",
      "205,dissension\n",
      "206,cancellation\n",
      "207,transactions\n",
      "208,believe\n",
      "209,operations\n",
      "210,resulting\n",
      "211,decides\n",
      "212,unequivocal\n",
      "213,minutes\n",
      "214,understandable\n",
      "215,dependence\n",
      "216,supposedly\n",
      "217,subtract\n",
      "218,sheets\n",
      "219,consist\n",
      "220,immediately\n",
      "221,exponentially\n",
      "222,overall\n",
      "223,indeed\n",
      "224,separated\n",
      "225,length\n",
      "226,family\n",
      "227,necessitates\n",
      "228,described\n",
      "229,primarily\n",
      "230,suggested\n",
      "231,possibilities\n",
      "232,building\n",
      "233,universal\n",
      "234,unnecessarily\n",
      "235,beginning\n",
      "236,and\n",
      "237,comments\n",
      "238,the\n",
      "239,declarations\n",
      "240,supervision\n",
      "241,questionnaire\n",
      "242,develop\n",
      "243,unavailable\n",
      "244,appointments\n",
      "245,variable\n",
      "246,repetitive\n",
      "247,equalled\n",
      "248,bonus\n",
      "249,demands\n",
      "250,scrutinized\n",
      "251,recently\n",
      "252,clear\n",
      "253,adequate\n",
      "254,feeling\n",
      "255,familiar\n",
      "256,accepted\n",
      "257,accessing\n",
      "258,separation\n",
      "259,inquiries\n",
      "260,receiving\n",
      "261,procedure\n",
      "262,conceive\n",
      "263,generated\n",
      "264,flexible\n",
      "265,analysis\n",
      "266,particularly\n",
      "267,routine\n",
      "268,nation\n",
      "269,gaining\n",
      "270,geneva\n",
      "271,interesting\n",
      "272,surroundings\n",
      "273,opportunity\n",
      "274,functional\n",
      "275,together\n",
      "276,approach\n",
      "277,scheme\n",
      "278,occurred\n",
      "279,profession\n",
      "280,recommend\n",
      "281,examine\n",
      "282,there\n",
      "283,readjusted\n",
      "284,build\n",
      "285,organisation\n",
      "286,university\n",
      "287,utilized\n",
      "288,obtaining\n",
      "289,commercial\n",
      "290,embellishing\n",
      "291,description\n",
      "292,edition\n",
      "293,forbidden\n",
      "294,applicable\n",
      "295,committed\n",
      "296,search\n",
      "297,necessity\n",
      "298,similar\n",
      "299,luckily\n",
      "300,econometric\n",
      "301,again\n",
      "302,patterns\n",
      "303,analysing\n",
      "304,variety\n",
      "305,widely\n",
      "306,arrangements\n",
      "307,challenge\n",
      "308,fourth\n",
      "309,accounts\n",
      "310,politics\n",
      "311,decisions\n",
      "312,sense\n",
      "313,beneficial\n",
      "314,arguing\n",
      "315,continually\n",
      "316,acquaintances\n",
      "317,extremely\n",
      "318,excessively\n",
      "319,composed\n",
      "320,seen\n",
      "321,national\n",
      "322,source\n",
      "323,months\n",
      "324,progresses\n",
      "325,were\n",
      "326,brief\n",
      "327,matrix\n",
      "328,visitor\n",
      "329,adequately\n",
      "330,security\n",
      "331,successive\n",
      "332,consisting\n",
      "333,per\n",
      "334,commit\n",
      "335,except\n",
      "336,conversely\n",
      "337,decisions\n",
      "338,union\n",
      "339,when\n",
      "340,shown\n",
      "341,while\n",
      "342,suited\n",
      "343,necessary\n",
      "344,essential\n",
      "345,government\n",
      "346,unnecessary\n",
      "347,disaggregate\n",
      "348,argument\n",
      "349,choices\n",
      "350,conference\n",
      "351,proceeding\n",
      "352,profits\n",
      "353,apparent\n",
      "354,ideal\n",
      "355,ability\n",
      "356,responsibilities\n",
      "357,art\n",
      "358,many\n",
      "359,surveying\n",
      "360,provide\n",
      "361,within\n",
      "362,session\n",
      "363,false\n",
      "364,annual\n",
      "365,summaries\n",
      "366,reference\n",
      "367,employment\n",
      "368,eat\n",
      "369,particular\n",
      "370,surrounding\n",
      "371,choose\n",
      "372,journalism\n",
      "373,annoying\n",
      "374,expense\n",
      "375,receive\n",
      "376,however\n",
      "377,supplementary\n",
      "378,virtually\n",
      "379,forecast\n",
      "380,hearty\n",
      "381,combine\n",
      "382,requested\n",
      "383,desperately\n",
      "384,appreciated\n",
      "385,safeguard\n",
      "386,shortened\n",
      "387,confirmation\n",
      "388,advantages\n",
      "389,these\n",
      "390,before\n",
      "391,progression\n",
      "392,component\n",
      "393,numbers\n",
      "394,adjournment\n",
      "395,according\n",
      "396,opinion\n",
      "397,advise\n",
      "398,career\n",
      "399,resolved\n",
      "400,accessibility\n",
      "401,negligible\n",
      "402,students\n",
      "403,favourable\n",
      "404,techniques\n",
      "405,atmosphere\n",
      "406,exactly\n",
      "407,especially\n",
      "408,proportions\n",
      "409,geographically\n",
      "410,encompassing\n",
      "411,stopped\n",
      "412,relevant\n",
      "413,that\n",
      "414,applied\n",
      "415,eliminated\n",
      "416,containing\n",
      "417,conditioning\n",
      "418,successful\n",
      "419,queries\n",
      "420,aggravating\n",
      "421,erroneous\n",
      "422,weapons\n",
      "423,corporate\n",
      "424,inconceivable\n",
      "425,organised\n",
      "426,sensible\n",
      "427,studying\n",
      "428,examination\n",
      "429,analysis\n",
      "430,lonely\n",
      "431,interest\n",
      "432,committees\n",
      "433,explaining\n",
      "434,humour\n",
      "435,thoughts\n",
      "436,timing\n",
      "437,difficulty\n",
      "438,careers\n",
      "439,register\n",
      "440,note\n",
      "441,appointment\n",
      "442,surveys\n",
      "443,apologies\n",
      "444,approximately\n",
      "445,through\n",
      "446,prior\n",
      "447,executed\n",
      "448,anomalies\n",
      "449,relatively\n",
      "450,announcement\n",
      "451,accompanying\n",
      "452,projects\n",
      "453,canalised\n",
      "454,therefore\n",
      "455,parameters\n",
      "456,whereas\n",
      "457,they\n",
      "458,discretion\n",
      "459,handle\n",
      "460,disappointing\n",
      "461,expansion\n",
      "462,personnel\n",
      "463,senior\n",
      "464,apologise\n",
      "465,separate\n",
      "466,mean\n",
      "467,guidelines\n",
      "468,busy\n",
      "469,easily\n",
      "470,collate\n",
      "471,system\n",
      "472,speaking\n",
      "473,interrogating\n",
      "474,drastically\n",
      "475,difficult\n",
      "476,inefficient\n",
      "477,operator\n",
      "478,output\n",
      "479,base\n",
      "480,regained\n",
      "481,controlled\n",
      "482,referred\n",
      "483,irrelevant\n",
      "484,though\n",
      "485,years\n",
      "486,means\n",
      "487,technique\n",
      "488,neither\n",
      "489,required\n",
      "490,correspondence\n",
      "491,interpretation\n",
      "492,segment\n",
      "493,throughout\n",
      "494,qualities\n",
      "495,financial\n",
      "496,intelligence\n",
      "497,receives\n",
      "498,criticism\n",
      "499,would\n",
      "500,investigated\n",
      "501,recommending\n",
      "502,earliest\n",
      "503,immediate\n"
     ]
    }
   ],
   "source": [
    "correction = ''\n",
    "threshold  = 0.7\n",
    "temp = 0.7\n",
    "\n",
    "f = open('test.csv','r')\n",
    "\n",
    "for line in f:\n",
    "    row  = list(csv.reader([line]))[0]\n",
    "    correction = correct_text(row[1])\n",
    "    \n",
    "    if row[1] == correction:\n",
    "        for k,v in spell_errors.items():\n",
    "            if row[1] in tokens(v):\n",
    "                r = similar(row[1],k)\n",
    "                if r >= threshold and r >= temp:\n",
    "                    temp = r\n",
    "                    correction = k.lower()\n",
    "                    #break\n",
    "            temp = 0.7\n",
    "    if correction not in COUNTS:\n",
    "        for k,v in spell_errors.items():\n",
    "            if row[1] in tokens(v):\n",
    "                r = similar(row[1],k)\n",
    "                if r >= threshold and r >= temp:\n",
    "                    temp = r\n",
    "                    correction = k.lower()\n",
    "                    #break\n",
    "            temp = 0.7\n",
    "    if similar(row[1],correction) < 0.90:\n",
    "        for k,v in spell_errors.items():\n",
    "            if row[1] in tokens(v):\n",
    "                if correction != k:\n",
    "                    r = similar(row[1],k)\n",
    "                    if r >= threshold and r >= temp:\n",
    "                        temp = r\n",
    "                        correction = k.lower()\n",
    "                        #break\n",
    "            temp = 0.7\n",
    "    print(row[0]+','+correction)"
   ]
  },
  {
   "cell_type": "code",
   "execution_count": null,
   "metadata": {
    "collapsed": true
   },
   "outputs": [],
   "source": []
  },
  {
   "cell_type": "markdown",
   "metadata": {},
   "source": [
    "References:\n",
    "\n",
    "https://web.stanford.edu/class/cs276/pa/pa2.p\n",
    "\n",
    "http://web.stanford.edu/~jurafsky/slp3/5.pdf\n",
    "\n",
    "http://norvig.com/ngrams/spell-errors.txt\n",
    "\n",
    "http://nbviewer.jupyter.org/url/norvig.com/ipython/How%20to%20Do%20Things%20with%20Words.ipynb\n",
    "\n",
    "http://norvig.com/big.txt\n",
    "\n",
    "http://norvig.com/ngrams/count_1w.txt\n",
    "\n",
    "http://norvig.com/ngrams/"
   ]
  },
  {
   "cell_type": "code",
   "execution_count": null,
   "metadata": {
    "collapsed": true
   },
   "outputs": [],
   "source": []
  }
 ],
 "metadata": {
  "kernelspec": {
   "display_name": "Python 3",
   "language": "python",
   "name": "python3"
  },
  "language_info": {
   "codemirror_mode": {
    "name": "ipython",
    "version": 3
   },
   "file_extension": ".py",
   "mimetype": "text/x-python",
   "name": "python",
   "nbconvert_exporter": "python",
   "pygments_lexer": "ipython3",
   "version": "3.6.2"
  },
  "toc": {
   "nav_menu": {},
   "number_sections": true,
   "sideBar": true,
   "skip_h1_title": false,
   "toc_cell": false,
   "toc_position": {},
   "toc_section_display": "block",
   "toc_window_display": false
  },
  "varInspector": {
   "cols": {
    "lenName": 16,
    "lenType": 16,
    "lenVar": 40
   },
   "kernels_config": {
    "python": {
     "delete_cmd_postfix": "",
     "delete_cmd_prefix": "del ",
     "library": "var_list.py",
     "varRefreshCmd": "print(var_dic_list())"
    },
    "r": {
     "delete_cmd_postfix": ") ",
     "delete_cmd_prefix": "rm(",
     "library": "var_list.r",
     "varRefreshCmd": "cat(var_dic_list()) "
    }
   },
   "types_to_exclude": [
    "module",
    "function",
    "builtin_function_or_method",
    "instance",
    "_Feature"
   ],
   "window_display": false
  }
 },
 "nbformat": 4,
 "nbformat_minor": 1
}
